{
 "cells": [
  {
   "cell_type": "code",
   "execution_count": 71,
   "id": "67419a21",
   "metadata": {},
   "outputs": [],
   "source": [
    "from tqdm.notebook import tqdm \n",
    "\n",
    "import numpy as np\n",
    "import pandas as pd\n",
    "import matplotlib.pyplot as plt\n",
    "\n",
    "import ast\n",
    "import csv\n",
    "\n",
    "\n",
    "from sklearn import preprocessing\n",
    "\n",
    "from sklearn.metrics import accuracy_score\n",
    "from sklearn.model_selection import KFold\n",
    "from sklearn.model_selection import GridSearchCV\n",
    "from sklearn.model_selection import train_test_split\n",
    "\n",
    "from sklearn.svm import SVC\n",
    "\n",
    "pd.options.mode.chained_assignment = None\n",
    "%matplotlib inline"
   ]
  },
  {
   "cell_type": "code",
   "execution_count": 62,
   "id": "2c694f6f",
   "metadata": {},
   "outputs": [],
   "source": [
    "def replace_chars(vector):\n",
    "    to_replace = \"[] \\n\"\n",
    "    for char in to_replace:\n",
    "        vector = vector.replace(char, \" \")\n",
    "    return vector.split()"
   ]
  },
  {
   "cell_type": "code",
   "execution_count": 63,
   "id": "fa5f6966",
   "metadata": {},
   "outputs": [],
   "source": [
    "def convert_list_to_series(vector):\n",
    "    return pd.to_numeric(pd.Series(vec))"
   ]
  },
  {
   "cell_type": "markdown",
   "id": "2daad587",
   "metadata": {},
   "source": [
    "## Data preporation"
   ]
  },
  {
   "cell_type": "code",
   "execution_count": 2,
   "id": "ffe14bbc",
   "metadata": {},
   "outputs": [],
   "source": [
    "data = pd.read_csv(\"labeled_dataset.csv\")"
   ]
  },
  {
   "cell_type": "code",
   "execution_count": 69,
   "id": "58d24b38",
   "metadata": {},
   "outputs": [
    {
     "data": {
      "text/html": [
       "<div>\n",
       "<style scoped>\n",
       "    .dataframe tbody tr th:only-of-type {\n",
       "        vertical-align: middle;\n",
       "    }\n",
       "\n",
       "    .dataframe tbody tr th {\n",
       "        vertical-align: top;\n",
       "    }\n",
       "\n",
       "    .dataframe thead th {\n",
       "        text-align: right;\n",
       "    }\n",
       "</style>\n",
       "<table border=\"1\" class=\"dataframe\">\n",
       "  <thead>\n",
       "    <tr style=\"text-align: right;\">\n",
       "      <th></th>\n",
       "      <th>Unnamed: 0</th>\n",
       "      <th>_id</th>\n",
       "      <th>abstract</th>\n",
       "      <th>vector</th>\n",
       "      <th>labels</th>\n",
       "    </tr>\n",
       "  </thead>\n",
       "  <tbody>\n",
       "    <tr>\n",
       "      <th>0</th>\n",
       "      <td>2500640</td>\n",
       "      <td>573696806e3b12023e58bded</td>\n",
       "      <td>consider distributed dson architecture interac...</td>\n",
       "      <td>[[ 1.92877650e-02]\\n [ 2.52012283e-01]\\n [-4.0...</td>\n",
       "      <td>4</td>\n",
       "    </tr>\n",
       "    <tr>\n",
       "      <th>1</th>\n",
       "      <td>1939546</td>\n",
       "      <td>5550432e45ce0a409eb46401</td>\n",
       "      <td>web applications prevalent platforms informati...</td>\n",
       "      <td>[[ 0.24369365]\\n [ 0.5338475 ]\\n [-0.06631115]...</td>\n",
       "      <td>1</td>\n",
       "    </tr>\n",
       "    <tr>\n",
       "      <th>2</th>\n",
       "      <td>2451165</td>\n",
       "      <td>573695d36e3b12023e4eb9ff</td>\n",
       "      <td>analysis fuzzyoverlapping community structure ...</td>\n",
       "      <td>[[-1.80163700e-02]\\n [ 2.04452261e-01]\\n [ 3.2...</td>\n",
       "      <td>2</td>\n",
       "    </tr>\n",
       "    <tr>\n",
       "      <th>3</th>\n",
       "      <td>919218</td>\n",
       "      <td>53e9ab78b7602d970351a4a3</td>\n",
       "      <td>approach clustering timeseries approach discov...</td>\n",
       "      <td>[[-0.01064459]\\n [ 0.13473687]\\n [ 0.1160049 ]...</td>\n",
       "      <td>2</td>\n",
       "    </tr>\n",
       "    <tr>\n",
       "      <th>4</th>\n",
       "      <td>254711</td>\n",
       "      <td>53e99cdfb7602d970259505a</td>\n",
       "      <td>symbolic checking successful technique verifyi...</td>\n",
       "      <td>[[-0.03889668]\\n [ 0.30423757]\\n [-0.02531016]...</td>\n",
       "      <td>4</td>\n",
       "    </tr>\n",
       "  </tbody>\n",
       "</table>\n",
       "</div>"
      ],
      "text/plain": [
       "   Unnamed: 0                       _id  \\\n",
       "0     2500640  573696806e3b12023e58bded   \n",
       "1     1939546  5550432e45ce0a409eb46401   \n",
       "2     2451165  573695d36e3b12023e4eb9ff   \n",
       "3      919218  53e9ab78b7602d970351a4a3   \n",
       "4      254711  53e99cdfb7602d970259505a   \n",
       "\n",
       "                                            abstract  \\\n",
       "0  consider distributed dson architecture interac...   \n",
       "1  web applications prevalent platforms informati...   \n",
       "2  analysis fuzzyoverlapping community structure ...   \n",
       "3  approach clustering timeseries approach discov...   \n",
       "4  symbolic checking successful technique verifyi...   \n",
       "\n",
       "                                              vector  labels  \n",
       "0  [[ 1.92877650e-02]\\n [ 2.52012283e-01]\\n [-4.0...       4  \n",
       "1  [[ 0.24369365]\\n [ 0.5338475 ]\\n [-0.06631115]...       1  \n",
       "2  [[-1.80163700e-02]\\n [ 2.04452261e-01]\\n [ 3.2...       2  \n",
       "3  [[-0.01064459]\\n [ 0.13473687]\\n [ 0.1160049 ]...       2  \n",
       "4  [[-0.03889668]\\n [ 0.30423757]\\n [-0.02531016]...       4  "
      ]
     },
     "execution_count": 69,
     "metadata": {},
     "output_type": "execute_result"
    }
   ],
   "source": [
    "data.head()"
   ]
  },
  {
   "cell_type": "code",
   "execution_count": 61,
   "id": "e1136644",
   "metadata": {},
   "outputs": [],
   "source": [
    "vectors = data[\"vector\"]\n",
    "VECTOR_SIZE = len(replace_chars(vectors[0]))"
   ]
  },
  {
   "cell_type": "code",
   "execution_count": 64,
   "id": "c6dae81a",
   "metadata": {},
   "outputs": [
    {
     "data": {
      "application/vnd.jupyter.widget-view+json": {
       "model_id": "607873f0affa45c19223a8a782ee05a4",
       "version_major": 2,
       "version_minor": 0
      },
      "text/plain": [
       "  0%|          | 0/10000 [00:00<?, ?it/s]"
      ]
     },
     "metadata": {},
     "output_type": "display_data"
    }
   ],
   "source": [
    "X = pd.DataFrame(columns=list(range(VECTOR_SIZE)))\n",
    "for i, vec in enumerate(tqdm(vectors)):\n",
    "    vec = replace_chars(vec)\n",
    "    X.loc[i] = convert_list_to_series(vec)\n",
    "\n",
    "Y = data[\"labels\"]"
   ]
  },
  {
   "cell_type": "code",
   "execution_count": 67,
   "id": "9440e8f2",
   "metadata": {},
   "outputs": [
    {
     "data": {
      "text/html": [
       "<div>\n",
       "<style scoped>\n",
       "    .dataframe tbody tr th:only-of-type {\n",
       "        vertical-align: middle;\n",
       "    }\n",
       "\n",
       "    .dataframe tbody tr th {\n",
       "        vertical-align: top;\n",
       "    }\n",
       "\n",
       "    .dataframe thead th {\n",
       "        text-align: right;\n",
       "    }\n",
       "</style>\n",
       "<table border=\"1\" class=\"dataframe\">\n",
       "  <thead>\n",
       "    <tr style=\"text-align: right;\">\n",
       "      <th></th>\n",
       "      <th>0</th>\n",
       "      <th>1</th>\n",
       "      <th>2</th>\n",
       "      <th>3</th>\n",
       "      <th>4</th>\n",
       "      <th>5</th>\n",
       "      <th>6</th>\n",
       "      <th>7</th>\n",
       "      <th>8</th>\n",
       "      <th>9</th>\n",
       "      <th>...</th>\n",
       "      <th>290</th>\n",
       "      <th>291</th>\n",
       "      <th>292</th>\n",
       "      <th>293</th>\n",
       "      <th>294</th>\n",
       "      <th>295</th>\n",
       "      <th>296</th>\n",
       "      <th>297</th>\n",
       "      <th>298</th>\n",
       "      <th>299</th>\n",
       "    </tr>\n",
       "  </thead>\n",
       "  <tbody>\n",
       "    <tr>\n",
       "      <th>0</th>\n",
       "      <td>0.019288</td>\n",
       "      <td>0.252012</td>\n",
       "      <td>-0.004028</td>\n",
       "      <td>0.105440</td>\n",
       "      <td>0.192244</td>\n",
       "      <td>-0.420156</td>\n",
       "      <td>0.122775</td>\n",
       "      <td>0.804742</td>\n",
       "      <td>0.239669</td>\n",
       "      <td>-0.107765</td>\n",
       "      <td>...</td>\n",
       "      <td>0.123394</td>\n",
       "      <td>0.411098</td>\n",
       "      <td>0.196681</td>\n",
       "      <td>0.108734</td>\n",
       "      <td>0.316778</td>\n",
       "      <td>0.402116</td>\n",
       "      <td>0.063839</td>\n",
       "      <td>-0.359100</td>\n",
       "      <td>0.336358</td>\n",
       "      <td>0.047863</td>\n",
       "    </tr>\n",
       "    <tr>\n",
       "      <th>1</th>\n",
       "      <td>0.243694</td>\n",
       "      <td>0.533848</td>\n",
       "      <td>-0.066311</td>\n",
       "      <td>-0.092245</td>\n",
       "      <td>0.501947</td>\n",
       "      <td>-0.039216</td>\n",
       "      <td>-0.014495</td>\n",
       "      <td>0.658079</td>\n",
       "      <td>0.294956</td>\n",
       "      <td>-0.007597</td>\n",
       "      <td>...</td>\n",
       "      <td>0.264527</td>\n",
       "      <td>0.214714</td>\n",
       "      <td>0.232022</td>\n",
       "      <td>-0.030819</td>\n",
       "      <td>-0.080473</td>\n",
       "      <td>0.314592</td>\n",
       "      <td>-0.288054</td>\n",
       "      <td>-0.491084</td>\n",
       "      <td>-0.026807</td>\n",
       "      <td>0.579800</td>\n",
       "    </tr>\n",
       "    <tr>\n",
       "      <th>2</th>\n",
       "      <td>-0.018016</td>\n",
       "      <td>0.204452</td>\n",
       "      <td>0.032094</td>\n",
       "      <td>0.158700</td>\n",
       "      <td>0.195748</td>\n",
       "      <td>-0.519167</td>\n",
       "      <td>0.288753</td>\n",
       "      <td>0.951722</td>\n",
       "      <td>0.426394</td>\n",
       "      <td>-0.083423</td>\n",
       "      <td>...</td>\n",
       "      <td>0.087602</td>\n",
       "      <td>0.503279</td>\n",
       "      <td>0.328429</td>\n",
       "      <td>0.087483</td>\n",
       "      <td>0.448525</td>\n",
       "      <td>0.503638</td>\n",
       "      <td>0.115408</td>\n",
       "      <td>-0.470179</td>\n",
       "      <td>0.515303</td>\n",
       "      <td>0.060216</td>\n",
       "    </tr>\n",
       "    <tr>\n",
       "      <th>3</th>\n",
       "      <td>-0.010645</td>\n",
       "      <td>0.134737</td>\n",
       "      <td>0.116005</td>\n",
       "      <td>0.262162</td>\n",
       "      <td>0.061192</td>\n",
       "      <td>-0.530510</td>\n",
       "      <td>0.330680</td>\n",
       "      <td>0.833992</td>\n",
       "      <td>0.354102</td>\n",
       "      <td>-0.030746</td>\n",
       "      <td>...</td>\n",
       "      <td>0.018479</td>\n",
       "      <td>0.386978</td>\n",
       "      <td>0.317865</td>\n",
       "      <td>0.076633</td>\n",
       "      <td>0.394360</td>\n",
       "      <td>0.452293</td>\n",
       "      <td>0.167613</td>\n",
       "      <td>-0.546751</td>\n",
       "      <td>0.592078</td>\n",
       "      <td>0.023910</td>\n",
       "    </tr>\n",
       "    <tr>\n",
       "      <th>4</th>\n",
       "      <td>-0.038897</td>\n",
       "      <td>0.304238</td>\n",
       "      <td>-0.025310</td>\n",
       "      <td>0.148247</td>\n",
       "      <td>0.107871</td>\n",
       "      <td>-0.448753</td>\n",
       "      <td>0.193785</td>\n",
       "      <td>0.784141</td>\n",
       "      <td>0.251807</td>\n",
       "      <td>-0.115472</td>\n",
       "      <td>...</td>\n",
       "      <td>0.086166</td>\n",
       "      <td>0.361546</td>\n",
       "      <td>0.202321</td>\n",
       "      <td>0.080887</td>\n",
       "      <td>0.364324</td>\n",
       "      <td>0.494056</td>\n",
       "      <td>0.052042</td>\n",
       "      <td>-0.453458</td>\n",
       "      <td>0.381452</td>\n",
       "      <td>0.056816</td>\n",
       "    </tr>\n",
       "  </tbody>\n",
       "</table>\n",
       "<p>5 rows × 300 columns</p>\n",
       "</div>"
      ],
      "text/plain": [
       "        0         1         2         3         4         5         6    \\\n",
       "0  0.019288  0.252012 -0.004028  0.105440  0.192244 -0.420156  0.122775   \n",
       "1  0.243694  0.533848 -0.066311 -0.092245  0.501947 -0.039216 -0.014495   \n",
       "2 -0.018016  0.204452  0.032094  0.158700  0.195748 -0.519167  0.288753   \n",
       "3 -0.010645  0.134737  0.116005  0.262162  0.061192 -0.530510  0.330680   \n",
       "4 -0.038897  0.304238 -0.025310  0.148247  0.107871 -0.448753  0.193785   \n",
       "\n",
       "        7         8         9    ...       290       291       292       293  \\\n",
       "0  0.804742  0.239669 -0.107765  ...  0.123394  0.411098  0.196681  0.108734   \n",
       "1  0.658079  0.294956 -0.007597  ...  0.264527  0.214714  0.232022 -0.030819   \n",
       "2  0.951722  0.426394 -0.083423  ...  0.087602  0.503279  0.328429  0.087483   \n",
       "3  0.833992  0.354102 -0.030746  ...  0.018479  0.386978  0.317865  0.076633   \n",
       "4  0.784141  0.251807 -0.115472  ...  0.086166  0.361546  0.202321  0.080887   \n",
       "\n",
       "        294       295       296       297       298       299  \n",
       "0  0.316778  0.402116  0.063839 -0.359100  0.336358  0.047863  \n",
       "1 -0.080473  0.314592 -0.288054 -0.491084 -0.026807  0.579800  \n",
       "2  0.448525  0.503638  0.115408 -0.470179  0.515303  0.060216  \n",
       "3  0.394360  0.452293  0.167613 -0.546751  0.592078  0.023910  \n",
       "4  0.364324  0.494056  0.052042 -0.453458  0.381452  0.056816  \n",
       "\n",
       "[5 rows x 300 columns]"
      ]
     },
     "execution_count": 67,
     "metadata": {},
     "output_type": "execute_result"
    }
   ],
   "source": [
    "X.head()"
   ]
  },
  {
   "cell_type": "code",
   "execution_count": 68,
   "id": "7960c1b7",
   "metadata": {},
   "outputs": [
    {
     "data": {
      "text/plain": [
       "0    4\n",
       "1    1\n",
       "2    2\n",
       "3    2\n",
       "4    4\n",
       "Name: labels, dtype: int64"
      ]
     },
     "execution_count": 68,
     "metadata": {},
     "output_type": "execute_result"
    }
   ],
   "source": [
    "Y.head()"
   ]
  },
  {
   "cell_type": "code",
   "execution_count": 72,
   "id": "d0150ccb",
   "metadata": {},
   "outputs": [],
   "source": [
    "X_train, X_test, y_train, y_test = train_test_split(X, Y, test_size=0.2, random_state=42)\n",
    "\n",
    "min_max_scaler = preprocessing.MinMaxScaler()\n",
    "X_train = min_max_scaler.fit_transform(X_train)\n",
    "X_test = min_max_scaler.transform(X_test)"
   ]
  },
  {
   "cell_type": "markdown",
   "id": "34d74c2b",
   "metadata": {},
   "source": [
    "## Model training"
   ]
  },
  {
   "cell_type": "code",
   "execution_count": 88,
   "id": "9c264776",
   "metadata": {},
   "outputs": [],
   "source": [
    "def fit_predict_CV(X_train, X_test, y_train, y_test, model_type, params_grid=dict()):\n",
    "    model = model_type()\n",
    "    \n",
    "    model_cv = GridSearchCV(model, params_grid, cv=KFold(), refit=True, verbose=1)\n",
    "    model_cv.fit(X_train, y_train) \n",
    "    \n",
    "    best_model = model_cv.best_estimator_\n",
    "\n",
    "    prediction_train = best_model.predict(X_train)\n",
    "    prediction_test = best_model.predict(X_test)\n",
    "    acc_train = accuracy_score(y_train, prediction_train)\n",
    "    acc_test = accuracy_score(y_test, prediction_test)\n",
    "    \n",
    "    \n",
    "    print(\"Best hyperparameters: \", model_cv.best_params_)\n",
    "    print(\"Train accuracy:       \", round(acc_train, 5))\n",
    "    print(\"Test accuracy:        \", round(acc_test, 5))\n",
    "\n",
    "    \n",
    "    return best_model"
   ]
  },
  {
   "cell_type": "code",
   "execution_count": 89,
   "id": "1e8eca33",
   "metadata": {},
   "outputs": [
    {
     "name": "stdout",
     "output_type": "stream",
     "text": [
      "Fitting 5 folds for each of 270 candidates, totalling 1350 fits\n",
      "Best hyperparameters:  {'C': 10.0, 'class_weight': 'balanced', 'degree': 2, 'kernel': 'poly'}\n",
      "Train accuracy:        0.99675\n",
      "Test accuracy:         0.987\n"
     ]
    }
   ],
   "source": [
    "grid = {\n",
    "    \"class_weight\": [\"balanced\"],\n",
    "    \"kernel\": [\"linear\", \"poly\", \"rbf\"],\n",
    "    \"degree\": np.arange(1, 10),\n",
    "    \"C\": np.linspace(1, 10, 10)\n",
    "}\n",
    "svm = fit_predict_CV(X_train, X_test, y_train, y_test, SVC, grid)"
   ]
  },
  {
   "cell_type": "code",
   "execution_count": 92,
   "id": "2ce2406b",
   "metadata": {},
   "outputs": [],
   "source": [
    "import pickle\n",
    "with open('svm_classifier.pkl', 'wb') as fid:\n",
    "    pickle.dump(svm, fid)    "
   ]
  },
  {
   "cell_type": "code",
   "execution_count": null,
   "id": "d4567472",
   "metadata": {},
   "outputs": [],
   "source": [
    "    scikit-learn==1.1.0\n",
    "    pickleshare==0.7.5           \n",
    "    numpy==1.23.4                   \n",
    "    matplotlib==3.5.2            \n",
    "    pandas==1.4.4            \n",
    "tqdm==4.64.1           "
   ]
  }
 ],
 "metadata": {
  "kernelspec": {
   "display_name": "Python 3 (ipykernel)",
   "language": "python",
   "name": "python3"
  },
  "language_info": {
   "codemirror_mode": {
    "name": "ipython",
    "version": 3
   },
   "file_extension": ".py",
   "mimetype": "text/x-python",
   "name": "python",
   "nbconvert_exporter": "python",
   "pygments_lexer": "ipython3",
   "version": "3.8.3"
  }
 },
 "nbformat": 4,
 "nbformat_minor": 5
}
