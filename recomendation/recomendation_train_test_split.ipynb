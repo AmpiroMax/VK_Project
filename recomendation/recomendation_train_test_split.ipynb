{
 "cells": [
  {
   "cell_type": "code",
   "execution_count": null,
   "id": "7e4fd83e",
   "metadata": {},
   "outputs": [],
   "source": [
    "import networkx as nx\n",
    "import random\n",
    "import numpy as np\n",
    "import scipy as sc\n",
    "import matplotlib.pyplot as plt\n",
    "from sklearn import metrics\n",
    "from scipy.optimize import curve_fit\n",
    "from tqdm import tqdm\n",
    "\n",
    "import pandas as pd"
   ]
  },
  {
   "cell_type": "markdown",
   "id": "3818b4b7",
   "metadata": {},
   "source": [
    "# Загрузка данных"
   ]
  },
  {
   "cell_type": "markdown",
   "id": "d306d332",
   "metadata": {},
   "source": [
    "загрузим таблицу со статьями, т.к. в ней есть год публикации"
   ]
  },
  {
   "cell_type": "code",
   "execution_count": 68,
   "id": "f511663e",
   "metadata": {},
   "outputs": [],
   "source": [
    "data = pd.read_csv(\"../main_table.csv\",  low_memory=False)"
   ]
  },
  {
   "cell_type": "code",
   "execution_count": 69,
   "id": "82bbdf59",
   "metadata": {},
   "outputs": [
    {
     "data": {
      "text/plain": [
       "5354309"
      ]
     },
     "execution_count": 69,
     "metadata": {},
     "output_type": "execute_result"
    }
   ],
   "source": [
    "len(data)"
   ]
  },
  {
   "cell_type": "markdown",
   "id": "4fcef1a6",
   "metadata": {},
   "source": [
    "уберем статьи где нет года"
   ]
  },
  {
   "cell_type": "code",
   "execution_count": 70,
   "id": "f57fb4c1",
   "metadata": {},
   "outputs": [],
   "source": [
    "data = data[data['year'].notna()][['_id', 'year']]\n",
    "data.rename(columns={\"_id\": \"id_article\"}, inplace=True)"
   ]
  },
  {
   "cell_type": "markdown",
   "id": "a70e4b0e",
   "metadata": {},
   "source": [
    "видно,что есть еще кривые данные"
   ]
  },
  {
   "cell_type": "code",
   "execution_count": 71,
   "id": "cd37d624",
   "metadata": {},
   "outputs": [
    {
     "data": {
      "text/plain": [
       "(0.0, 9737.0)"
      ]
     },
     "execution_count": 71,
     "metadata": {},
     "output_type": "execute_result"
    }
   ],
   "source": [
    "data['year'].min(), data['year'].max()"
   ]
  },
  {
   "cell_type": "markdown",
   "id": "f620d1c3",
   "metadata": {},
   "source": [
    "понятно, что статей из будущего не должно быть. Надо найти адекватную минимальную дату"
   ]
  },
  {
   "cell_type": "code",
   "execution_count": 73,
   "id": "fe4c6013",
   "metadata": {},
   "outputs": [],
   "source": [
    "data = data[data['year']<=2022]"
   ]
  },
  {
   "cell_type": "code",
   "execution_count": 74,
   "id": "58326cc3",
   "metadata": {},
   "outputs": [
    {
     "data": {
      "text/plain": [
       "<AxesSubplot: >"
      ]
     },
     "execution_count": 74,
     "metadata": {},
     "output_type": "execute_result"
    },
    {
     "data": {
      "image/png": "[encoded data removed]",
      "text/plain": [
       "<Figure size 640x480 with 1 Axes>"
      ]
     },
     "metadata": {},
     "output_type": "display_data"
    }
   ],
   "source": [
    "data['year'].hist(bins=100)"
   ]
  },
  {
   "cell_type": "markdown",
   "id": "e14b2225",
   "metadata": {},
   "source": [
    "есть какие-то кривые данные около нуля. сделаем огрубое отсечение по 1000 году"
   ]
  },
  {
   "cell_type": "code",
   "execution_count": 77,
   "id": "6a03e4c4",
   "metadata": {},
   "outputs": [
    {
     "data": {
      "text/plain": [
       "array([[<AxesSubplot: title={'center': 'year'}>]], dtype=object)"
      ]
     },
     "execution_count": 77,
     "metadata": {},
     "output_type": "execute_result"
    },
    {
     "data": {
      "image/png": "[encoded data removed]",
      "text/plain": [
       "<Figure size 640x480 with 1 Axes>"
      ]
     },
     "metadata": {},
     "output_type": "display_data"
    }
   ],
   "source": [
    "data[(data['year']>= 1000)].hist(bins=100)"
   ]
  },
  {
   "cell_type": "markdown",
   "id": "2fb57880",
   "metadata": {},
   "source": [
    "видим, что самая ранняя дата теперь далеко от нашего отсечения, значит все ок"
   ]
  },
  {
   "cell_type": "code",
   "execution_count": 78,
   "id": "6a23b018",
   "metadata": {},
   "outputs": [],
   "source": [
    "data = data[(data['year']>= 1000)]"
   ]
  },
  {
   "cell_type": "code",
   "execution_count": 81,
   "id": "ee49cc19",
   "metadata": {},
   "outputs": [
    {
     "data": {
      "text/plain": [
       "5353694"
      ]
     },
     "execution_count": 81,
     "metadata": {},
     "output_type": "execute_result"
    }
   ],
   "source": [
    "len(data)"
   ]
  },
  {
   "cell_type": "markdown",
   "id": "28874bc9",
   "metadata": {},
   "source": [
    "загрузим таблицу маппинга автора со статьей"
   ]
  },
  {
   "cell_type": "code",
   "execution_count": 16,
   "id": "c30eaca7",
   "metadata": {},
   "outputs": [],
   "source": [
    "authors = pd.read_csv(\"../db_map_article_authors.csv\", low_memory=False)"
   ]
  },
  {
   "cell_type": "code",
   "execution_count": 18,
   "id": "f437610d",
   "metadata": {},
   "outputs": [
    {
     "data": {
      "text/plain": [
       "13015526"
      ]
     },
     "execution_count": 18,
     "metadata": {},
     "output_type": "execute_result"
    }
   ],
   "source": [
    "len(authors)"
   ]
  },
  {
   "cell_type": "markdown",
   "id": "89cf7017",
   "metadata": {},
   "source": [
    "найдем все пары соавторов по статьям неповторяющиеся внутри одной статьи"
   ]
  },
  {
   "cell_type": "code",
   "execution_count": 35,
   "id": "c6b5b277",
   "metadata": {},
   "outputs": [],
   "source": [
    "author_map = authors.join(authors.set_index('id_article'), on='id_article', how='left', lsuffix = '_l', rsuffix = '_r' )\n",
    "author_map = author_map[author_map['id_author_l'] > author_map['id_author_r']]"
   ]
  },
  {
   "cell_type": "markdown",
   "id": "f726babc",
   "metadata": {},
   "source": [
    "соединим, чтобы в ней появился год публикации, после этого не нужен id_article"
   ]
  },
  {
   "cell_type": "code",
   "execution_count": 79,
   "id": "781e6cac",
   "metadata": {},
   "outputs": [],
   "source": [
    "article=author_map.join(data.set_index('id_article'), on='id_article', how='inner')[['id_author_l', 'id_author_r', 'year']]"
   ]
  },
  {
   "cell_type": "markdown",
   "id": "e654cc18",
   "metadata": {},
   "source": [
    "оставим только уникальные пары с минимальным годом"
   ]
  },
  {
   "cell_type": "code",
   "execution_count": 80,
   "id": "a0d25fc0",
   "metadata": {},
   "outputs": [],
   "source": [
    "article.sort_values(by = 'year', inplace=True)"
   ]
  },
  {
   "cell_type": "code",
   "execution_count": 82,
   "id": "85824b4d",
   "metadata": {},
   "outputs": [],
   "source": [
    "article.drop_duplicates(subset = ['id_author_l', 'id_author_r'], inplace=True, keep = 'first')"
   ]
  },
  {
   "cell_type": "code",
   "execution_count": 84,
   "id": "0fecf1c8",
   "metadata": {},
   "outputs": [
    {
     "data": {
      "text/html": [
       "<div>\n",
       "<style scoped>\n",
       "    .dataframe tbody tr th:only-of-type {\n",
       "        vertical-align: middle;\n",
       "    }\n",
       "\n",
       "    .dataframe tbody tr th {\n",
       "        vertical-align: top;\n",
       "    }\n",
       "\n",
       "    .dataframe thead th {\n",
       "        text-align: right;\n",
       "    }\n",
       "</style>\n",
       "<table border=\"1\" class=\"dataframe\">\n",
       "  <thead>\n",
       "    <tr style=\"text-align: right;\">\n",
       "      <th></th>\n",
       "      <th>id_author_l</th>\n",
       "      <th>id_author_r</th>\n",
       "      <th>year</th>\n",
       "    </tr>\n",
       "  </thead>\n",
       "  <tbody>\n",
       "    <tr>\n",
       "      <th>3171</th>\n",
       "      <td>53f47c90dabfaee43ed4a23b</td>\n",
       "      <td>53f43164dabfaee2a1cafa56</td>\n",
       "      <td>1907.0</td>\n",
       "    </tr>\n",
       "    <tr>\n",
       "      <th>12970</th>\n",
       "      <td>53f454fedabfaefedbb4b95d</td>\n",
       "      <td>53f440bfdabfaee0d9ba2480</td>\n",
       "      <td>1919.0</td>\n",
       "    </tr>\n",
       "    <tr>\n",
       "      <th>1589</th>\n",
       "      <td>53f4517edabfaee02ad460be</td>\n",
       "      <td>53f42f15dabfaee43ebdb1d7</td>\n",
       "      <td>1922.0</td>\n",
       "    </tr>\n",
       "    <tr>\n",
       "      <th>5981</th>\n",
       "      <td>53f45360dabfaee02ad4d54f</td>\n",
       "      <td>53f37ec3dabfae4b349ef56e</td>\n",
       "      <td>1922.0</td>\n",
       "    </tr>\n",
       "    <tr>\n",
       "      <th>5982</th>\n",
       "      <td>54090974dabfae8faa667d5e</td>\n",
       "      <td>53f45360dabfaee02ad4d54f</td>\n",
       "      <td>1922.0</td>\n",
       "    </tr>\n",
       "  </tbody>\n",
       "</table>\n",
       "</div>"
      ],
      "text/plain": [
       "                    id_author_l               id_author_r    year\n",
       "3171   53f47c90dabfaee43ed4a23b  53f43164dabfaee2a1cafa56  1907.0\n",
       "12970  53f454fedabfaefedbb4b95d  53f440bfdabfaee0d9ba2480  1919.0\n",
       "1589   53f4517edabfaee02ad460be  53f42f15dabfaee43ebdb1d7  1922.0\n",
       "5981   53f45360dabfaee02ad4d54f  53f37ec3dabfae4b349ef56e  1922.0\n",
       "5982   54090974dabfae8faa667d5e  53f45360dabfaee02ad4d54f  1922.0"
      ]
     },
     "execution_count": 84,
     "metadata": {},
     "output_type": "execute_result"
    }
   ],
   "source": [
    "article.head()"
   ]
  },
  {
   "cell_type": "markdown",
   "id": "a34fd57e",
   "metadata": {},
   "source": [
    "посмотрим на года образование пар"
   ]
  },
  {
   "cell_type": "code",
   "execution_count": 91,
   "id": "2cc8d57d",
   "metadata": {},
   "outputs": [
    {
     "data": {
      "text/plain": [
       "<AxesSubplot: >"
      ]
     },
     "execution_count": 91,
     "metadata": {},
     "output_type": "execute_result"
    },
    {
     "data": {
      "image/png": "[encoded data removed]",
      "text/plain": [
       "<Figure size 640x480 with 1 Axes>"
      ]
     },
     "metadata": {},
     "output_type": "display_data"
    }
   ],
   "source": [
    "article['year'].hist(bins=int(article['year'].max()-article['year'].min()))"
   ]
  },
  {
   "cell_type": "markdown",
   "id": "29f78dde",
   "metadata": {},
   "source": [
    "т.к. нам нужно будет рекомендовать соавтора, т.е. по сути предсказывать пояление новых связей, то логично поделить датасет на тет и трейн по году образования связи.\n",
    "\n",
    "т.к. база выбла выгружена в мае 2021 года, то в ыделим в тест 2020 и 2021 год"
   ]
  },
  {
   "cell_type": "code",
   "execution_count": 100,
   "id": "3f105f0b",
   "metadata": {},
   "outputs": [
    {
     "data": {
      "text/plain": [
       "0.016797743462544805"
      ]
     },
     "execution_count": 100,
     "metadata": {},
     "output_type": "execute_result"
    }
   ],
   "source": [
    "len(article[article['year']>=2020])/len(article)"
   ]
  },
  {
   "cell_type": "markdown",
   "id": "dbae2ae9",
   "metadata": {},
   "source": [
    "1.7% связей попало в тест. Выглядит довольно не плохо"
   ]
  },
  {
   "cell_type": "markdown",
   "id": "7ae7c0bc",
   "metadata": {},
   "source": [
    "обучатся тоже надо будет с учетом времени образования связей, так что год оставим."
   ]
  },
  {
   "cell_type": "code",
   "execution_count": 103,
   "id": "83ce9721",
   "metadata": {},
   "outputs": [],
   "source": [
    "article[article['year']>=2020].to_csv('test.csv', index=False)\n",
    "article[article['year']<2020].to_csv('train.csv', index=False)"
   ]
  },
  {
   "cell_type": "markdown",
   "id": "388a1de7",
   "metadata": {},
   "source": [
    "В качестве метрики логично взять Mean average precision at K , т.к. по сути на выходе у нас дожен быть ограниченный  ранжированный список соавторов"
   ]
  },
  {
   "cell_type": "code",
   "execution_count": null,
   "id": "885575ae",
   "metadata": {},
   "outputs": [],
   "source": []
  }
 ],
 "metadata": {
  "kernelspec": {
   "display_name": "Python 3 (ipykernel)",
   "language": "python",
   "name": "python3"
  },
  "language_info": {
   "codemirror_mode": {
    "name": "ipython",
    "version": 3
   },
   "file_extension": ".py",
   "mimetype": "text/x-python",
   "name": "python",
   "nbconvert_exporter": "python",
   "pygments_lexer": "ipython3",
   "version": "3.10.6"
  }
 },
 "nbformat": 4,
 "nbformat_minor": 5
}
